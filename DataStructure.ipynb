{
  "nbformat": 4,
  "nbformat_minor": 0,
  "metadata": {
    "colab": {
      "name": "DataStructure.ipynb",
      "provenance": [],
      "collapsed_sections": [],
      "include_colab_link": true
    },
    "kernelspec": {
      "name": "python3",
      "display_name": "Python 3"
    }
  },
  "cells": [
    {
      "cell_type": "markdown",
      "metadata": {
        "id": "view-in-github",
        "colab_type": "text"
      },
      "source": [
        "<a href=\"https://colab.research.google.com/github/PithanPw/hello-world/blob/master/DataStructure.ipynb\" target=\"_parent\"><img src=\"https://colab.research.google.com/assets/colab-badge.svg\" alt=\"Open In Colab\"/></a>"
      ]
    },
    {
      "cell_type": "markdown",
      "metadata": {
        "id": "s0I0FYdaZAjh"
      },
      "source": [
        "**5. Data Structures**"
      ]
    },
    {
      "cell_type": "markdown",
      "metadata": {
        "id": "cCnhfImZbdmV"
      },
      "source": [
        "**5.1 More on Lists**\n",
        "\n",
        "The list data type has some more methods. Here are all of the methods of list objects:\n",
        "\n",
        "list.append(x)\n",
        "Add an item to the end of the list. Equivalent to a[len(a):] = [x].\n",
        "\n",
        "list.extend(iterable)\n",
        "Extend the list by appending all the items from the iterable. Equivalent to a[len(a):] = iterable.\n",
        "\n",
        "list.insert(i, x)\n",
        "Insert an item at a given position. The first argument is the index of the element before which to insert, so a.insert(0, x) inserts at the front of the list, and a.insert(len(a), x) is equivalent to a.append(x).\n",
        "\n",
        "list.remove(x)\n",
        "Remove the first item from the list whose value is equal to x. It raises a ValueError if there is no such item.\n",
        "\n",
        "list.pop([i])\n",
        "Remove the item at the given position in the list, and return it. If no index is specified, a.pop() removes and returns the last item in the list. (The square brackets around the i in the method signature denote that the parameter is optional, not that you should type square brackets at that position. You will see this notation frequently in the Python Library Reference.)\n",
        "\n",
        "list.clear()\n",
        "Remove all items from the list. Equivalent to del a[:].\n",
        "\n",
        "list.index(x[, start[, end]])\n",
        "Return zero-based index in the list of the first item whose value is equal to x. Raises a ValueError if there is no such item.\n",
        "\n",
        "The optional arguments start and end are interpreted as in the slice notation and are used to limit the search to a particular subsequence of the list. The returned index is computed relative to the beginning of the full sequence rather than the start argument.\n",
        "\n",
        "list.count(x)\n",
        "Return the number of times x appears in the list.\n",
        "\n",
        "list.sort(key=None, reverse=False)\n",
        "Sort the items of the list in place (the arguments can be used for sort customization, see sorted() for their explanation).\n",
        "\n",
        "list.reverse()\n",
        "Reverse the elements of the list in place.\n",
        "\n",
        "list.copy()\n",
        "Return a shallow copy of the list. Equivalent to a[:]."
      ]
    },
    {
      "cell_type": "code",
      "metadata": {
        "id": "2okWrE_iYr-h",
        "colab": {
          "base_uri": "https://localhost:8080/"
        },
        "outputId": "471d8769-78da-4124-8600-890d4a0ba8cc"
      },
      "source": [
        "fruits = ['orange', 'apple', 'pear', 'banana', 'kiwi', 'apple', 'banana']\n",
        "print(fruits.count('apple'))            #list.count(x)\n",
        "print(fruits.count('tangerine'))\n",
        "print(fruits.index('banana'))           #list.index(x,[start],[end])\n",
        "print(fruits.index('banana', 4))\n",
        "fruits.reverse()                 #list.reverse()\n",
        "print(fruits)\n",
        "fruits.append('grape')           #list.append(x)\n",
        "print(fruits)\n",
        "fruits.sort()                    #list.sort()\n",
        "print(fruits)"
      ],
      "execution_count": 1,
      "outputs": [
        {
          "output_type": "stream",
          "text": [
            "2\n",
            "0\n",
            "3\n",
            "6\n",
            "['banana', 'apple', 'kiwi', 'banana', 'pear', 'apple', 'orange']\n",
            "['banana', 'apple', 'kiwi', 'banana', 'pear', 'apple', 'orange', 'grape']\n",
            "['apple', 'apple', 'banana', 'banana', 'grape', 'kiwi', 'orange', 'pear']\n"
          ],
          "name": "stdout"
        }
      ]
    },
    {
      "cell_type": "code",
      "metadata": {
        "id": "B6nFT0ZhwHAA",
        "colab": {
          "base_uri": "https://localhost:8080/",
          "height": 51
        },
        "outputId": "92f2eaf0-8557-4b90-c9a2-dd73a6efb6fa"
      },
      "source": [
        "# append(),extend(),insert()\n",
        "list_a = [1,2,3,\"test\"]\n",
        "print(list_a)\n",
        "list_a.append((2,3))\n",
        "list_a.extend((2,3))      #list.extend(x) unpack x and append to list\n",
        "list_a.insert(2,9)\n",
        "print(list_a)\n"
      ],
      "execution_count": null,
      "outputs": [
        {
          "output_type": "stream",
          "text": [
            "[1, 2, 3, 'test']\n",
            "[1, 2, 9, 3, 'test', (2, 3), 2, 3]\n"
          ],
          "name": "stdout"
        }
      ]
    },
    {
      "cell_type": "markdown",
      "metadata": {
        "id": "ZAlhg6NzifXR"
      },
      "source": [
        "5.1.1. Using Lists as Stacks\n",
        "\n",
        "use a list as a stack (LIFO)"
      ]
    },
    {
      "cell_type": "code",
      "metadata": {
        "id": "jA884p_8idl6",
        "colab": {
          "base_uri": "https://localhost:8080/",
          "height": 102
        },
        "outputId": "b0d2856f-62a0-41aa-8183-d2c33b2688b3"
      },
      "source": [
        "# use a list as a stack\n",
        "stack = [3, 4, 5]\n",
        "stack.append(6)\n",
        "stack.append(7)\n",
        "print(stack)\n",
        "print(stack.pop()) #list.pop() return last element and remove it from the list\n",
        "print(stack)\n",
        "print(stack.pop())\n",
        "print(stack)\n"
      ],
      "execution_count": null,
      "outputs": [
        {
          "output_type": "stream",
          "text": [
            "[3, 4, 5, 6, 7]\n",
            "7\n",
            "[3, 4, 5, 6]\n",
            "6\n",
            "[3, 4, 5]\n"
          ],
          "name": "stdout"
        }
      ]
    },
    {
      "cell_type": "markdown",
      "metadata": {
        "id": "rMMj6scakWOd"
      },
      "source": [
        "5.1.2. Using Lists as Queues\n",
        "\n",
        "use a list as a queues (FIFO)"
      ]
    },
    {
      "cell_type": "code",
      "metadata": {
        "id": "XMwgfalLlAkz",
        "colab": {
          "base_uri": "https://localhost:8080/",
          "height": 125
        },
        "outputId": "8ecdc348-87be-42f8-91fd-cd7afc328dba"
      },
      "source": [
        "from collections import deque   # Implement a queue, use collections.deque\n",
        "queue = deque([\"Eric\", \"John\", \"Michael\"])\n",
        "queue.append(\"Terry\")           # Terry arrives\n",
        "print(queue) \n",
        "\n",
        "queue.append(\"Graham\")          # Graham arrives\n",
        "print(queue) \n",
        "\n",
        "ql = queue.popleft()            # The first to arrive now leaves deque.popleft()\n",
        "print(ql,' out')\n",
        "print(queue) \n",
        "\n",
        "ql = queue.popleft()            # The second to arrive now leaves \n",
        "print(ql,' out')\n",
        "print(queue)                    # Remaining queue in order of arrival\n"
      ],
      "execution_count": null,
      "outputs": [
        {
          "output_type": "stream",
          "text": [
            "deque(['Eric', 'John', 'Michael', 'Terry'])\n",
            "deque(['Eric', 'John', 'Michael', 'Terry', 'Graham'])\n",
            "Eric  out\n",
            "deque(['John', 'Michael', 'Terry', 'Graham'])\n",
            "John  out\n",
            "deque(['Michael', 'Terry', 'Graham'])\n"
          ],
          "name": "stdout"
        }
      ]
    },
    {
      "cell_type": "markdown",
      "metadata": {
        "id": "-wDR5fYE0tGh"
      },
      "source": [
        "**5.1.3. List Comprehensions**"
      ]
    },
    {
      "cell_type": "code",
      "metadata": {
        "id": "JqCQC5iD0TwO",
        "colab": {
          "base_uri": "https://localhost:8080/",
          "height": 34
        },
        "outputId": "3af2b520-de18-406c-cc82-c555d7d948f0"
      },
      "source": [
        "squares = []\n",
        "for x in range(10):\n",
        "    squares.append(x**2)\n",
        "print(squares)\n"
      ],
      "execution_count": null,
      "outputs": [
        {
          "output_type": "stream",
          "text": [
            "[0, 1, 4, 9, 16, 25, 36, 49, 64, 81]\n"
          ],
          "name": "stdout"
        }
      ]
    },
    {
      "cell_type": "code",
      "metadata": {
        "id": "VhaCBHcY17NL",
        "colab": {
          "base_uri": "https://localhost:8080/",
          "height": 34
        },
        "outputId": "5edf926c-d8d5-4971-95bc-6de27632105a"
      },
      "source": [
        "squares = list(map(lambda x: x**2, range(10)))\n",
        "print(squares)\n"
      ],
      "execution_count": null,
      "outputs": [
        {
          "output_type": "stream",
          "text": [
            "[0, 1, 4, 9, 16, 25, 36, 49, 64, 81]\n"
          ],
          "name": "stdout"
        }
      ]
    },
    {
      "cell_type": "code",
      "metadata": {
        "id": "1aJwiBAZ4wbD",
        "colab": {
          "base_uri": "https://localhost:8080/",
          "height": 34
        },
        "outputId": "6c853d65-b419-4809-e955-d962e0f248b8"
      },
      "source": [
        "squares = [x**2 for x in range(10)]\n",
        "print(squares)\n"
      ],
      "execution_count": null,
      "outputs": [
        {
          "output_type": "stream",
          "text": [
            "[0, 1, 4, 9, 16, 25, 36, 49, 64, 81]\n"
          ],
          "name": "stdout"
        }
      ]
    },
    {
      "cell_type": "code",
      "metadata": {
        "id": "l7QWZDLS6fWq",
        "colab": {
          "base_uri": "https://localhost:8080/",
          "height": 34
        },
        "outputId": "cea3ab90-79f0-4e84-a145-517f4798aae8"
      },
      "source": [
        "[(x, y) for x in [1,2,3] for y in [3,1,4] if x != y]\n"
      ],
      "execution_count": null,
      "outputs": [
        {
          "output_type": "execute_result",
          "data": {
            "text/plain": [
              "[(1, 3), (1, 4), (2, 3), (2, 1), (2, 4), (3, 1), (3, 4)]"
            ]
          },
          "metadata": {
            "tags": []
          },
          "execution_count": 7
        }
      ]
    },
    {
      "cell_type": "code",
      "metadata": {
        "id": "LstADM657y1L",
        "colab": {
          "base_uri": "https://localhost:8080/",
          "height": 323
        },
        "outputId": "7f047286-9029-4e17-c382-94115fdfd2c0"
      },
      "source": [
        "[(x,y,z) for x in [1,2] for y in [10,11,12] for z in [101,102,103]]"
      ],
      "execution_count": null,
      "outputs": [
        {
          "output_type": "execute_result",
          "data": {
            "text/plain": [
              "[(1, 10, 101),\n",
              " (1, 10, 102),\n",
              " (1, 10, 103),\n",
              " (1, 11, 101),\n",
              " (1, 11, 102),\n",
              " (1, 11, 103),\n",
              " (1, 12, 101),\n",
              " (1, 12, 102),\n",
              " (1, 12, 103),\n",
              " (2, 10, 101),\n",
              " (2, 10, 102),\n",
              " (2, 10, 103),\n",
              " (2, 11, 101),\n",
              " (2, 11, 102),\n",
              " (2, 11, 103),\n",
              " (2, 12, 101),\n",
              " (2, 12, 102),\n",
              " (2, 12, 103)]"
            ]
          },
          "metadata": {
            "tags": []
          },
          "execution_count": 9
        }
      ]
    },
    {
      "cell_type": "code",
      "metadata": {
        "id": "WOxJFlhKKHeH",
        "colab": {
          "base_uri": "https://localhost:8080/",
          "height": 153
        },
        "outputId": "80577046-082f-4200-d1dd-2a485b5fe3d1"
      },
      "source": [
        "vec = [-4, -2, 0, 2, 4]\n",
        "print(vec)\n",
        "print([x*2 for x in vec])\n",
        "print([x for x in vec if x >= 0])\n",
        "print([abs(x) for x in vec])\n",
        "freshfruit = ['  banana', '  loganberry ', 'passion fruit  ']\n",
        "print(freshfruit)\n",
        "print([weapon.strip() for weapon in freshfruit])     # list.strip()\n",
        "# If the expression is a tuple e.g (a,b), it must be parenthesized.\n",
        "print([(x, x**2) for x in range(6)])\n",
        "\n",
        "# flatten a list using a listcomp with two 'for'\n",
        "vec = [[1,2,3], ['a',4,5,6], [7,8,9,1]]\n",
        "lst=[num for elem in vec for num in elem]\n",
        "print(lst)"
      ],
      "execution_count": null,
      "outputs": [
        {
          "output_type": "stream",
          "text": [
            "[-4, -2, 0, 2, 4]\n",
            "[-8, -4, 0, 4, 8]\n",
            "[0, 2, 4]\n",
            "[4, 2, 0, 2, 4]\n",
            "['  banana', '  loganberry ', 'passion fruit  ']\n",
            "['banana', 'loganberry', 'passion fruit']\n",
            "[(0, 0), (1, 1), (2, 4), (3, 9), (4, 16), (5, 25)]\n",
            "[1, 2, 3, 'a', 4, 5, 6, 7, 8, 9, 1]\n"
          ],
          "name": "stdout"
        }
      ]
    },
    {
      "cell_type": "code",
      "metadata": {
        "id": "QEIbmIFMSneN",
        "colab": {
          "base_uri": "https://localhost:8080/",
          "height": 34
        },
        "outputId": "483456be-00c5-4edf-cb12-5b4fbc56fff2"
      },
      "source": [
        "from math import pi\n",
        "[(i,str(round(pi, i))) for i in range(1, 6)]\n"
      ],
      "execution_count": null,
      "outputs": [
        {
          "output_type": "execute_result",
          "data": {
            "text/plain": [
              "[(1, '3.1'), (2, '3.14'), (3, '3.142'), (4, '3.1416'), (5, '3.14159')]"
            ]
          },
          "metadata": {
            "tags": []
          },
          "execution_count": 23
        }
      ]
    },
    {
      "cell_type": "markdown",
      "metadata": {
        "id": "jnoMSDN5ZyEv"
      },
      "source": [
        "**5.1.4. Nested List Comprehensions**"
      ]
    },
    {
      "cell_type": "code",
      "metadata": {
        "id": "bzb4Y_PTZ14l",
        "colab": {
          "base_uri": "https://localhost:8080/",
          "height": 119
        },
        "outputId": "2fbd3667-605a-4ac9-9d4e-0007f1e64216"
      },
      "source": [
        "# A 3x4 matrix implemented as a list of 3 lists of length 4\n",
        "matrix = [\n",
        "          [1, 2, 3, 4],\n",
        "          [5, 6, 7, 8],\n",
        "          [9, 10, 11, 12],\n",
        "          ]\n",
        "print(matrix)\n",
        "print(matrix[0])\n",
        "# Unpacking element\n",
        "print(*matrix) \n",
        "# transpose rows and columns\n",
        "t_matrix = [[row[i] for row in matrix] for i in range(4)]\n",
        "print(t_matrix)\n",
        "\n",
        "transposed = []\n",
        "for i in range(4):\n",
        "  transposed.append([row[i] for row in matrix])\n",
        "print(transposed)\n",
        "\n",
        "tr_matrix = list(zip(*matrix)) # Zip function and * unpacking argument list\n",
        "print(tr_matrix)\n"
      ],
      "execution_count": null,
      "outputs": [
        {
          "output_type": "stream",
          "text": [
            "[[1, 2, 3, 4], [5, 6, 7, 8], [9, 10, 11, 12]]\n",
            "[1, 2, 3, 4]\n",
            "[1, 2, 3, 4] [5, 6, 7, 8] [9, 10, 11, 12]\n",
            "[[1, 5, 9], [2, 6, 10], [3, 7, 11], [4, 8, 12]]\n",
            "[[1, 5, 9], [2, 6, 10], [3, 7, 11], [4, 8, 12]]\n",
            "[(1, 5, 9), (2, 6, 10), (3, 7, 11), (4, 8, 12)]\n"
          ],
          "name": "stdout"
        }
      ]
    },
    {
      "cell_type": "markdown",
      "metadata": {
        "id": "gbWcTUJo30jH"
      },
      "source": [
        "**5.2. The del statement**"
      ]
    },
    {
      "cell_type": "code",
      "metadata": {
        "id": "9BhZ7s8b26v8",
        "colab": {
          "base_uri": "https://localhost:8080/",
          "height": 68
        },
        "outputId": "9b401f9c-a5d0-49cd-cbaf-8efd07a44b17"
      },
      "source": [
        "a = [-1, 1, 66.25, 333, 333, 1234.5]\n",
        "del a[0]\n",
        "print(a)\n",
        "\n",
        "del a[2:4]\n",
        "print(a)\n",
        "\n",
        "del a[:]\n",
        "print(a)"
      ],
      "execution_count": null,
      "outputs": [
        {
          "output_type": "stream",
          "text": [
            "[1, 66.25, 333, 333, 1234.5]\n",
            "[1, 66.25, 1234.5]\n",
            "[]\n"
          ],
          "name": "stdout"
        }
      ]
    },
    {
      "cell_type": "code",
      "metadata": {
        "id": "QPTgSWo5ybig",
        "colab": {
          "base_uri": "https://localhost:8080/",
          "height": 136
        },
        "outputId": "48011044-0e74-4351-c811-70da7480a53e"
      },
      "source": [
        "# del, pop(), remove()\n",
        "list1 = [1,2,3,'hello',4,5,6,7]\n",
        "print(list1[:])\n",
        "\n",
        "del list1[2]\n",
        "print(list1[:])\n",
        "\n",
        "a = list1.pop()\n",
        "print(a,'\\n',list1[:])\n",
        "\n",
        "a = list1.pop(2)\n",
        "print(a,'\\n',list1[:])\n",
        "\n",
        "list1.remove(2)\n",
        "print(list1[:])"
      ],
      "execution_count": null,
      "outputs": [
        {
          "output_type": "stream",
          "text": [
            "[1, 2, 3, 'hello', 4, 5, 6, 7]\n",
            "[1, 2, 'hello', 4, 5, 6, 7]\n",
            "7 \n",
            " [1, 2, 'hello', 4, 5, 6]\n",
            "hello \n",
            " [1, 2, 4, 5, 6]\n",
            "[1, 4, 5, 6]\n"
          ],
          "name": "stdout"
        }
      ]
    },
    {
      "cell_type": "markdown",
      "metadata": {
        "id": "shkABejR6__c"
      },
      "source": [
        "**5.3. Tuples and Sequences**\n",
        "\n",
        "Though tuples may seem similar to lists, they are often used in different situations and for different purposes. Tuples are immutable, and usually contain a heterogeneous sequence of elements that are accessed via unpacking (see later in this section) or indexing (or even by attribute in the case of namedtuples). Lists are mutable, and their elements are usually homogeneous and are accessed by iterating over the list."
      ]
    },
    {
      "cell_type": "code",
      "metadata": {
        "id": "B3F54B5w62Yw",
        "colab": {
          "base_uri": "https://localhost:8080/",
          "height": 102
        },
        "outputId": "55544f9e-84bd-4f3b-c288-2d1373690ade"
      },
      "source": [
        "t = 12345, 54321, 'hello!'\n",
        "print(t[0])\n",
        "print(t)\n",
        "\"\"\"\n",
        ">>> # Tuples are immutable:\n",
        "... t[0] = 88888\n",
        "Traceback (most recent call last):\n",
        "  File \"<stdin>\", line 1, in <module>\n",
        "TypeError: 'tuple' object does not support item assignment\n",
        "\"\"\"\n",
        "# Tuples may be nested:\n",
        "u = t, (1, 2, 3, 4, 5)\n",
        "print(u)\n",
        "v = ([1, 2, 3], [3, 2, 1])\n",
        "print(v)\n",
        "\n",
        "x,y,z = t\n",
        "print(x,y,z)\n"
      ],
      "execution_count": null,
      "outputs": [
        {
          "output_type": "stream",
          "text": [
            "12345\n",
            "(12345, 54321, 'hello!')\n",
            "((12345, 54321, 'hello!'), (1, 2, 3, 4, 5))\n",
            "([1, 2, 3], [3, 2, 1])\n",
            "12345 54321 hello!\n"
          ],
          "name": "stdout"
        }
      ]
    },
    {
      "cell_type": "code",
      "metadata": {
        "id": "kDpwmEQ-Di69",
        "colab": {
          "base_uri": "https://localhost:8080/",
          "height": 68
        },
        "outputId": "8fbb786d-7e9f-4416-9992-36598ea6aa46"
      },
      "source": [
        "empty = ()\n",
        "singleton = 'hello',    # <-- note trailing comma\n",
        "print(len(empty))\n",
        "\n",
        "print(len(singleton))\n",
        "\n",
        "print(singleton)\n"
      ],
      "execution_count": null,
      "outputs": [
        {
          "output_type": "stream",
          "text": [
            "0\n",
            "1\n",
            "('hello',)\n"
          ],
          "name": "stdout"
        }
      ]
    },
    {
      "cell_type": "markdown",
      "metadata": {
        "id": "-Ru6306gE2x_"
      },
      "source": [
        "**5.4. Sets**\n",
        "\n",
        "A set is an unordered collection with no duplicate elements. Basic uses include membership testing and eliminating duplicate entries. Set objects also support mathematical operations like union, intersection, difference, and symmetric difference.\n",
        "\n",
        "{} Curly braces or the set() function can be used to create sets. Note: to create an empty set you have to use set(), not {}; the latter creates an empty dictionary, a data structure that we discuss in the next section.\n",
        "\n"
      ]
    },
    {
      "cell_type": "code",
      "metadata": {
        "id": "nDBQyKclGOlF",
        "colab": {
          "base_uri": "https://localhost:8080/",
          "height": 179
        },
        "outputId": "6a75aeee-10e8-4e1d-c0fd-dd2cd4e671cf"
      },
      "source": [
        "basket = {'apple', 'orange', 'apple', 'pear', 'orange', 'banana'}\n",
        "print(basket)                      # show that duplicates have been removed\n",
        "print('orange' in basket)          # fast membership testing\n",
        "print('crabgrass' in basket)\n",
        "a = set('abracadabra')\n",
        "b = set('alacazam')\n",
        "print(a,b)\n",
        "print(a | b)                              # letters in a or b or both\n",
        "print(a - b)                              # letters in a but not in b\n",
        "print(a & b)                              # letters in both a and b\n",
        "print(a ^ b)                              # letters in a or b but not both (exclusive or)\n",
        "\n",
        "a = {x for x in 'abracadabra' if x not in 'abc'}\n",
        "print(a)\n"
      ],
      "execution_count": null,
      "outputs": [
        {
          "output_type": "stream",
          "text": [
            "{'apple', 'banana', 'orange', 'pear'}\n",
            "True\n",
            "False\n",
            "{'d', 'r', 'a', 'b', 'c'} {'l', 'a', 'c', 'm', 'z'}\n",
            "{'d', 'r', 'l', 'a', 'b', 'c', 'm', 'z'}\n",
            "{'d', 'b', 'r'}\n",
            "{'a', 'c'}\n",
            "{'l', 'd', 'b', 'r', 'm', 'z'}\n",
            "{'d', 'r'}\n"
          ],
          "name": "stdout"
        }
      ]
    },
    {
      "cell_type": "markdown",
      "metadata": {
        "id": "8J-AL4znSdr2"
      },
      "source": [
        "**5.5. Dictionaries**\n"
      ]
    },
    {
      "cell_type": "code",
      "metadata": {
        "id": "bE_nsgwNSh7Z",
        "colab": {
          "base_uri": "https://localhost:8080/",
          "height": 153
        },
        "outputId": "ff8c0f5e-6db4-4197-b938-caa8c841045b"
      },
      "source": [
        "tel = {'jack': 4098, 'sape': 4139}\n",
        "tel['guido'] = 4127\n",
        "print(tel)\n",
        "\n",
        "print(tel['jack'])\n",
        "\n",
        "del tel['sape']\n",
        "tel['irv'] = 4127\n",
        "print(tel)\n",
        "\n",
        "list(tel)\n",
        "print(tel)\n",
        "\n",
        "print(sorted(tel))\n",
        "print(tel)\n",
        "\n",
        "print('guido' in tel)\n",
        "\n",
        "print('jack' not in tel)\n",
        "\n"
      ],
      "execution_count": null,
      "outputs": [
        {
          "output_type": "stream",
          "text": [
            "{'jack': 4098, 'sape': 4139, 'guido': 4127}\n",
            "4098\n",
            "{'jack': 4098, 'guido': 4127, 'irv': 4127}\n",
            "{'jack': 4098, 'guido': 4127, 'irv': 4127}\n",
            "['guido', 'irv', 'jack']\n",
            "{'jack': 4098, 'guido': 4127, 'irv': 4127}\n",
            "True\n",
            "False\n"
          ],
          "name": "stdout"
        }
      ]
    },
    {
      "cell_type": "code",
      "metadata": {
        "id": "BDHMAnG2XEGp",
        "colab": {
          "base_uri": "https://localhost:8080/",
          "height": 34
        },
        "outputId": "14410fa1-6fc3-4600-fd66-29bbe2654774"
      },
      "source": [
        "tel_1 = dict([('sape', 4139), ('guido', 4127), ('jack', 4098)])\n",
        "print(tel_1)"
      ],
      "execution_count": null,
      "outputs": [
        {
          "output_type": "stream",
          "text": [
            "{'sape': 4139, 'guido': 4127, 'jack': 4098}\n"
          ],
          "name": "stdout"
        }
      ]
    },
    {
      "cell_type": "code",
      "metadata": {
        "id": "BAa9bRsdZ7dm",
        "colab": {
          "base_uri": "https://localhost:8080/",
          "height": 34
        },
        "outputId": "e2b2d16f-352f-4dbc-c4d4-23a133866cb3"
      },
      "source": [
        "{x: x**2 for x in (2, 4, 6)}"
      ],
      "execution_count": null,
      "outputs": [
        {
          "output_type": "execute_result",
          "data": {
            "text/plain": [
              "{2: 4, 4: 16, 6: 36}"
            ]
          },
          "metadata": {
            "tags": []
          },
          "execution_count": 8
        }
      ]
    },
    {
      "cell_type": "code",
      "metadata": {
        "id": "1BPi1gveaaQU",
        "colab": {
          "base_uri": "https://localhost:8080/",
          "height": 34
        },
        "outputId": "509fb68a-e225-4bcc-c411-70a1459876f5"
      },
      "source": [
        "dict(sape=4139, guido=4127, jack=4098)\n"
      ],
      "execution_count": null,
      "outputs": [
        {
          "output_type": "execute_result",
          "data": {
            "text/plain": [
              "{'guido': 4127, 'jack': 4098, 'sape': 4139}"
            ]
          },
          "metadata": {
            "tags": []
          },
          "execution_count": 9
        }
      ]
    },
    {
      "cell_type": "markdown",
      "metadata": {
        "id": "sIfmDT5ycJpS"
      },
      "source": [
        "**5.6. Looping Techniques**\n",
        "\n"
      ]
    },
    {
      "cell_type": "code",
      "metadata": {
        "id": "RHImLKKocUk-",
        "colab": {
          "base_uri": "https://localhost:8080/",
          "height": 51
        },
        "outputId": "714159b5-6f46-405f-de4c-3b88147a04ea"
      },
      "source": [
        "knights = {'gallahad': 'the pure', 'robin': 'the brave'}\n",
        "for k, v in knights.items():    # dict.item() read key and value at the same time\n",
        "    print(k, v)\n"
      ],
      "execution_count": null,
      "outputs": [
        {
          "output_type": "stream",
          "text": [
            "gallahad the pure\n",
            "robin the brave\n"
          ],
          "name": "stdout"
        }
      ]
    },
    {
      "cell_type": "code",
      "metadata": {
        "id": "sfDiwasYiwcg",
        "colab": {
          "base_uri": "https://localhost:8080/",
          "height": 68
        },
        "outputId": "65a11558-4fca-4dcb-cf91-1c876cf4d24b"
      },
      "source": [
        "for i, v in enumerate(['tic', 'tac', 'toe']):\n",
        "  print(i,v)\n",
        "  "
      ],
      "execution_count": null,
      "outputs": [
        {
          "output_type": "stream",
          "text": [
            "0 tic\n",
            "1 tac\n",
            "2 toe\n"
          ],
          "name": "stdout"
        }
      ]
    },
    {
      "cell_type": "code",
      "metadata": {
        "id": "8INqCcCR-cio",
        "colab": {
          "base_uri": "https://localhost:8080/",
          "height": 68
        },
        "outputId": "7a1882c9-af1d-4bc5-ce78-7b6b1ae7ad61"
      },
      "source": [
        "# loop over two or more sequences at the same time, the entries can be paired with the zip() function.\n",
        "questions = ['name', 'quest', 'favorite color']\n",
        "answers = ['lancelot', 'the holy grail', 'blue']\n",
        "for q, a in zip(questions, answers):\n",
        "    print('What is your {0}?  It is {1}.'.format(q, a))\n"
      ],
      "execution_count": null,
      "outputs": [
        {
          "output_type": "stream",
          "text": [
            "What is your name?  It is lancelot.\n",
            "What is your quest?  It is the holy grail.\n",
            "What is your favorite color?  It is blue.\n"
          ],
          "name": "stdout"
        }
      ]
    },
    {
      "cell_type": "code",
      "metadata": {
        "id": "07p1Xa7EBrPx",
        "colab": {
          "base_uri": "https://localhost:8080/",
          "height": 102
        },
        "outputId": "aa4b55a9-134d-4f9b-ca87-8b1ec0ec0662"
      },
      "source": [
        "# To loop over a sequence in reverse, first specify the sequence in a forward direction \n",
        "# and then call the reversed() function.\n",
        "for i in reversed(range(1, 10, 2)):\n",
        "    print(i)\n"
      ],
      "execution_count": null,
      "outputs": [
        {
          "output_type": "stream",
          "text": [
            "9\n",
            "7\n",
            "5\n",
            "3\n",
            "1\n"
          ],
          "name": "stdout"
        }
      ]
    },
    {
      "cell_type": "code",
      "metadata": {
        "id": "Mnf5c0UzCgam",
        "colab": {
          "base_uri": "https://localhost:8080/",
          "height": 85
        },
        "outputId": "49f263b2-6d7c-4a03-f3f6-132b1a2605fd"
      },
      "source": [
        "basket = ['apple', 'orange', 'apple', 'pear', 'orange', 'banana']\n",
        "for f in sorted(set(basket)):         # fuction sorted()\n",
        "    print(f)\n"
      ],
      "execution_count": null,
      "outputs": [
        {
          "output_type": "stream",
          "text": [
            "apple\n",
            "banana\n",
            "orange\n",
            "pear\n"
          ],
          "name": "stdout"
        }
      ]
    },
    {
      "cell_type": "code",
      "metadata": {
        "id": "sNGjMGoADlmA",
        "colab": {
          "base_uri": "https://localhost:8080/",
          "height": 34
        },
        "outputId": "4b87231d-e6c1-4fb4-fe7d-cadc584b8dc5"
      },
      "source": [
        "import math\n",
        "raw_data = [56.2, float('NaN'), 51.7, 55.3, 52.5, float('NaN'), 47.8]\n",
        "filtered_data = []\n",
        "for value in raw_data:\n",
        "    if not math.isnan(value):\n",
        "        filtered_data.append(value)\n",
        "\n",
        "filtered_data"
      ],
      "execution_count": null,
      "outputs": [
        {
          "output_type": "execute_result",
          "data": {
            "text/plain": [
              "[56.2, 51.7, 55.3, 52.5, 47.8]"
            ]
          },
          "metadata": {
            "tags": []
          },
          "execution_count": 6
        }
      ]
    },
    {
      "cell_type": "markdown",
      "metadata": {
        "id": "EnX_JZUlEPiZ"
      },
      "source": [
        "**5.7. More on Conditions**\n"
      ]
    },
    {
      "cell_type": "code",
      "metadata": {
        "id": "Xss3f18MF2fn",
        "colab": {
          "base_uri": "https://localhost:8080/",
          "height": 68
        },
        "outputId": "796d1054-4e21-43e3-a868-90ea183f94d4"
      },
      "source": [
        "string1, string2, string3 = '', 'Trondheim', 'Hammer Dance'\n",
        "non_null = string1 or string2\n",
        "print(non_null)\n",
        "non_null = string1 or string3\n",
        "print(non_null)\n",
        "non_null = string1 or string2 or string3\n",
        "print(non_null)\n"
      ],
      "execution_count": null,
      "outputs": [
        {
          "output_type": "stream",
          "text": [
            "Trondheim\n",
            "Hammer Dance\n",
            "Trondheim\n"
          ],
          "name": "stdout"
        }
      ]
    },
    {
      "cell_type": "code",
      "metadata": {
        "id": "XYNhUvSuIifD",
        "colab": {
          "base_uri": "https://localhost:8080/",
          "height": 136
        },
        "outputId": "52b48d7a-9777-44c9-e840-1f593237d568"
      },
      "source": [
        "print((1, 2, 3)              < (1, 2, 4))\n",
        "print([1, 2, 3]              < [1, 2, 4])\n",
        "print('ABC' < 'C' < 'Pascal' < 'Python')\n",
        "print((1, 2, 3, 4)           < (1, 2, 4))\n",
        "print((1, 2)                 < (1, 2, -1))\n",
        "print((1, 2, 3)             == (1.0, 2.0, 3.0))\n",
        "print((1, 2, ('aa', 'ab'))   < (1, 2, ('abc', 'a'), 4))\n"
      ],
      "execution_count": null,
      "outputs": [
        {
          "output_type": "stream",
          "text": [
            "True\n",
            "True\n",
            "True\n",
            "True\n",
            "True\n",
            "True\n",
            "True\n"
          ],
          "name": "stdout"
        }
      ]
    }
  ]
}